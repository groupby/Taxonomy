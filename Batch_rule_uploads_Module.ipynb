{
  "nbformat": 4,
  "nbformat_minor": 0,
  "metadata": {
    "colab": {
      "name": "Batch_rule_uploads-Module.ipynb",
      "version": "0.3.2",
      "provenance": [],
      "collapsed_sections": [],
      "include_colab_link": true
    },
    "kernelspec": {
      "display_name": "Python 3",
      "language": "python",
      "name": "python3"
    }
  },
  "cells": [
    {
      "cell_type": "markdown",
      "metadata": {
        "id": "view-in-github",
        "colab_type": "text"
      },
      "source": [
        "<a href=\"https://colab.research.google.com/github/groupby/Taxonomy/blob/master/Batch_rule_uploads_Module.ipynb\" target=\"_parent\"><img src=\"https://colab.research.google.com/assets/colab-badge.svg\" alt=\"Open In Colab\"/></a>"
      ]
    },
    {
      "metadata": {
        "id": "Yyx9TEZ24wt3",
        "colab_type": "text"
      },
      "cell_type": "markdown",
      "source": [
        "# Bulk Rule Curation"
      ]
    },
    {
      "metadata": {
        "id": "XRCZYwU6402g",
        "colab_type": "text"
      },
      "cell_type": "markdown",
      "source": [
        "## Install and Imports needed to run the data"
      ]
    },
    {
      "metadata": {
        "id": "LYyJSW1DyMnb",
        "colab_type": "code",
        "outputId": "57e649ba-0154-4a07-9b85-95dd34b25d77",
        "colab": {
          "base_uri": "https://localhost:8080/",
          "height": 221
        }
      },
      "cell_type": "code",
      "source": [
        "!pip install --upgrade -q pygsheets\n",
        "!pip install tqdm\n",
        "!pip install datetime"
      ],
      "execution_count": 0,
      "outputs": [
        {
          "output_type": "stream",
          "text": [
            "\u001b[?25l\r\u001b[K    10% |███▌                            | 10kB 22.3MB/s eta 0:00:01\r\u001b[K    21% |███████                         | 20kB 1.9MB/s eta 0:00:01\r\u001b[K    32% |██████████▍                     | 30kB 2.7MB/s eta 0:00:01\r\u001b[K    43% |█████████████▉                  | 40kB 1.8MB/s eta 0:00:01\r\u001b[K    54% |█████████████████▎              | 51kB 2.2MB/s eta 0:00:01\r\u001b[K    64% |████████████████████▊           | 61kB 2.6MB/s eta 0:00:01\r\u001b[K    75% |████████████████████████▎       | 71kB 2.9MB/s eta 0:00:01\r\u001b[K    86% |███████████████████████████▊    | 81kB 3.3MB/s eta 0:00:01\r\u001b[K    97% |███████████████████████████████▏| 92kB 3.7MB/s eta 0:00:01\r\u001b[K    100% |████████████████████████████████| 102kB 3.9MB/s \n",
            "\u001b[?25hRequirement already satisfied: tqdm in /usr/local/lib/python3.6/dist-packages (4.28.1)\n",
            "Collecting datetime\n",
            "\u001b[?25l  Downloading https://files.pythonhosted.org/packages/73/22/a5297f3a1f92468cc737f8ce7ba6e5f245fcfafeae810ba37bd1039ea01c/DateTime-4.3-py2.py3-none-any.whl (60kB)\n",
            "\u001b[K    100% |████████████████████████████████| 61kB 2.5MB/s \n",
            "\u001b[?25hRequirement already satisfied: pytz in /usr/local/lib/python3.6/dist-packages (from datetime) (2018.9)\n",
            "Collecting zope.interface (from datetime)\n",
            "\u001b[?25l  Downloading https://files.pythonhosted.org/packages/19/17/1d198a6aaa9aa4590862fe3d3a2ed7dd808050cab4eebe8a2f2f813c1376/zope.interface-4.6.0-cp36-cp36m-manylinux1_x86_64.whl (167kB)\n",
            "\u001b[K    100% |████████████████████████████████| 174kB 17.1MB/s \n",
            "\u001b[?25hRequirement already satisfied: setuptools in /usr/local/lib/python3.6/dist-packages (from zope.interface->datetime) (40.8.0)\n",
            "Installing collected packages: zope.interface, datetime\n",
            "Successfully installed datetime-4.3 zope.interface-4.6.0\n"
          ],
          "name": "stdout"
        }
      ]
    },
    {
      "metadata": {
        "id": "16vQCyzMs5Yr",
        "colab_type": "code",
        "colab": {}
      },
      "cell_type": "code",
      "source": [
        "gsheets_url = 'https://docs.google.com/spreadsheets/d/16fFSeMa31_K8UyHxzfXRWllBfzcn38l7Ks1TBb4VCTQ/edit#gid=1279399904'\n",
        "sheet_name = 'MW Test'"
      ],
      "execution_count": 0,
      "outputs": []
    },
    {
      "metadata": {
        "id": "36wJvbTMyLE2",
        "colab_type": "code",
        "colab": {}
      },
      "cell_type": "code",
      "source": [
        "import pandas as pd\n",
        "import json\n",
        "import datetime\n",
        "import pygsheets\n",
        "import requests\n",
        "from tqdm import tqdm\n",
        "\n",
        "import psycopg2\n",
        "\n",
        "from google.colab import auth\n",
        "auth.authenticate_user()\n",
        "\n",
        "import gspread\n",
        "from oauth2client.client import GoogleCredentials"
      ],
      "execution_count": 0,
      "outputs": []
    },
    {
      "metadata": {
        "id": "G7phBDfP6_Kh",
        "colab_type": "text"
      },
      "cell_type": "markdown",
      "source": [
        "## Establishing a connection to the Google Sheet"
      ]
    },
    {
      "metadata": {
        "id": "awFK_vgUyLFD",
        "colab_type": "code",
        "colab": {}
      },
      "cell_type": "code",
      "source": [
        "#getting the date to document the day of the upload\n",
        "today = str(datetime.datetime.today())[:10]"
      ],
      "execution_count": 0,
      "outputs": []
    },
    {
      "metadata": {
        "id": "DGhMK9zuhR-I",
        "colab_type": "code",
        "colab": {}
      },
      "cell_type": "code",
      "source": [
        "#Connecting to google spreadsheets\n",
        "gc = gspread.authorize(GoogleCredentials.get_application_default())"
      ],
      "execution_count": 0,
      "outputs": []
    },
    {
      "metadata": {
        "id": "Ney-gD8XiEm3",
        "colab_type": "code",
        "colab": {}
      },
      "cell_type": "code",
      "source": [
        "spreadsheet = gc.open_by_url(gsheets_url)\n",
        "wks = spreadsheet.worksheet(sheet_name)"
      ],
      "execution_count": 0,
      "outputs": []
    },
    {
      "metadata": {
        "id": "-onRu8BYiUts",
        "colab_type": "code",
        "colab": {}
      },
      "cell_type": "code",
      "source": [
        "#Converting the dictionary records to a pandas dataframe. \n",
        "df = pd.DataFrame(wks.get_all_records())"
      ],
      "execution_count": 0,
      "outputs": []
    },
    {
      "metadata": {
        "id": "31riGMZ4yhpc",
        "colab_type": "code",
        "colab": {}
      },
      "cell_type": "code",
      "source": [
        "#the database credentials.\n",
        "postgres = {\n",
        "    \"database\":\"feeddata\",\n",
        "    \"user\":\"groupby\",\n",
        "    \"password\":\"gbi123gbi\",\n",
        "    \"host\":\"sandbox.edgecaseprod.com\",\n",
        "    \"port\":\"5432\"\n",
        "}"
      ],
      "execution_count": 0,
      "outputs": []
    },
    {
      "metadata": {
        "id": "SXG2dOAiyfwy",
        "colab_type": "code",
        "colab": {}
      },
      "cell_type": "code",
      "source": [
        "# insert your JWT here.\n",
        "JWT = \"\"\"eyJ0eXAiOiJKV1QiLCJhbGciOiJIUzI1NiJ9.eyJpZCI6NDE5LCJuYW1lIjoiUnlhbiBGcmlzZWxsYSIsImVtYWlsIjoicnlhbi5mcmlzZWxsYUBncm91cGJ5aW5jLmNvbSIsInBlcm1pc3Npb25zIjpbIkFjY2VzcyBEYXNoYm9hcmQiLCJNYW5hZ2UgVXNlcnMiLCJNYW5hZ2UgUm9sZXMiLCJWaWV3IEpvYnMiLCJWaWV3IExvZ2dpbmciLCJWaWV3IFNlcnZpY2VzIiwiRGV2ZWxvcGVyIiwiVmlldyBDdXN0b21lcnMiLCJBZGQgQ3VzdG9tZXJzIiwiTW9kaWZ5IEN1c3RvbWVycyIsIkltcG9ydCBDdXN0b21lcnMiLCJNYW5hZ2UgU0ZUUCBDcmVkZW50aWFscyIsIlZpZXcgQ3VzdG9tZXIgRGF0YSIsIlZpZXcgUHJvZHVjdCBEZXRhaWxzIiwiUHJvY2VzcyBGZWVkcyIsIlZpZXcgU2NvdXQgRmlsZSIsIk1vZGlmeSBQcm9kdWN0IERhdGEiLCJQdWJsaXNoIFByb2R1Y3QgRGF0YSIsIlJlY2VpdmUgVW5jdXJhdGVkIFByb2R1Y3QgRW1haWxzIiwiUmVjZWl2ZSBTdGFsZSBKb2IgRW1haWxzIiwiRGVsZXRlIEN1cmF0ZWQgRGF0YSIsIlNob3VsZCBOb3QgR2V0IERhc2hib2FyZCIsIk1pZ3JhdGUgQ3VyYXRpb24iLCJXaG9sZSBFbmNoaWxhZGEiLCJTdWJtaXQgUHJvZHVjdCBGZWVkYmFjayIsIlZpZXcgUmVwb3J0cyIsIlJ1biBSZXBvcnQiLCJHZW5lcmF0ZSBWaWV3cyIsIkdlbmVyYXRlIENhdGVnb3J5IFdoaXRlbGlzdCIsIlZpZXcgR2xvYmFsIFRheG9ub215IiwiRWRpdCBHbG9iYWwgVGF4b25vbXkiLCJWaWV3IEdsb2JhbCBDbGFzc2lmaWNhdGlvbiBSdWxlcyIsIkVkaXQgR2xvYmFsIENsYXNzaWZpY2F0aW9uIFJ1bGVzIiwiVmlldyBDdXN0b21lciBTdHJhdGVneSIsIkVkaXQgQ3VzdG9tZXIgU3RyYXRlZ3kiLCJFZGl0IEN1c3RvbWVyIFN0cmF0ZWd5IGluIFByZXZpZXciLCJBcHByb3ZlIEN1c3RvbWVyIFN0cmF0ZWd5IiwiRWRpdCBHdWlkZWxpbmVzIEluIEN1cmF0aW9uIiwiVmlldyBHdWlkZWxpbmVzIiwiRWRpdCBHdWlkZWxpbmVzIiwiVmlldyBDdXJhdGlvbiBKb2JzIiwiTWFuYWdlIEN1cmF0aW9uIEpvYnMiLCJFZGl0IEN1cmF0aW9uIFRhc2sgRmllbGRzIiwiUGVyZm9ybSBDdXJhdGlvbiBUYXNrcyIsIlBlcmZvcm0gUUEgQ3VyYXRpb24gVGFza3MiLCJQcmV2aWV3IEN1cmF0aW9uIFRhc2tzIiwiUmVjZWl2ZSBDdXJhdGlvbiBUYXNrIEVtYWlscyIsIlJlY2VpdmUgU3RyYXRlZ3kgQXBwcm92YWwgRW1haWxzIiwiQ2hhbmdlIFByb2R1Y3QgQnVja2V0IiwiTWFuYWdlIEN1cmF0aW9uIFJ1bGVzIiwiVmlldyBDdXJhdGlvbiBQZXJmb3JtYW5jZSIsIk1hbmFnZSBNYWNoaW5lIEN1cmF0aW9uIiwiVmlldyBJbnNpZ2h0cyIsIlZpZXcgVXNhZ2UgRGFzaGJvYXJkIiwiVmlldyBBdHRyaWJ1dGUgSW50ZWxsaWdlbmNlIl0sImlhdCI6MTU0OTQ4MTAyMiwiZXhwIjoxNTUwMDg1ODIyfQ.8Tfv5F2bOOJ-c2_GYshIWWSrkwO3cpxQimbTg0RhA9s\"\"\""
      ],
      "execution_count": 0,
      "outputs": []
    },
    {
      "metadata": {
        "id": "AuhCiou5yLFR",
        "colab_type": "text"
      },
      "cell_type": "markdown",
      "source": [
        "# Modular Functions"
      ]
    },
    {
      "metadata": {
        "id": "taU1F0v15-5p",
        "colab_type": "text"
      },
      "cell_type": "markdown",
      "source": [
        "## Data from google sheets."
      ]
    },
    {
      "metadata": {
        "id": "nO5r2gRHyLFT",
        "colab_type": "code",
        "colab": {}
      },
      "cell_type": "code",
      "source": [
        "def get_worksheet_from_gsheets(URL,sheet_name):\n",
        "    \"\"\"\n",
        "    Parameters:\n",
        "    ------------\n",
        "    URL: str url of the google sheets you would like to open.\n",
        "    \n",
        "    sheet_name: name of the worksheet inside the spreadsheet you are trying to open\n",
        "    \n",
        "    \"\"\"\n",
        "    gc = gspread.authorize(GoogleCredentials.get_application_default())\n",
        "    spreadsheet = gc.open_by_url(URL)\n",
        "    worksheet = spreadsheet.worksheet('Make Rules Out Of Me')\n",
        "    df = pd.DataFrame(wks.get_all_records())\n",
        "    return df"
      ],
      "execution_count": 0,
      "outputs": []
    },
    {
      "metadata": {
        "id": "blv9kwlO6C_Y",
        "colab_type": "text"
      },
      "cell_type": "markdown",
      "source": [
        "## Enrich data with Value IDs & Attribute IDs"
      ]
    },
    {
      "metadata": {
        "id": "lTT5bN08yLFd",
        "colab_type": "code",
        "colab": {}
      },
      "cell_type": "code",
      "source": [
        "def get_value_ids(df,search_product_type_column):\n",
        "    \"\"\"\n",
        "    Description: Input the dataframe an the column name to get a dictionary of the value and the value_ids \n",
        "    ###########\n",
        "    \n",
        "    Parameters:\n",
        "    ------------\n",
        "    df: dataframe \n",
        "    \n",
        "    column_name: str of the column name that contains the value names too look for\n",
        "    \n",
        "    \"\"\"\n",
        "    #Connect to SQL database\n",
        "    conn = psycopg2.connect(**postgres)\n",
        "\n",
        "    query = (\"\"\"\n",
        "    SELECT\n",
        "        id\n",
        "        ,name\n",
        "    FROM values\n",
        "    \"\"\")\n",
        "\n",
        "    values = pd.read_sql(query,conn)\n",
        "    value_names = list(df[search_product_type_column].values)\n",
        "    value_update_dict = {}\n",
        "    #creating the dictionary from the google sheets workbook. \n",
        "    for name in value_names:\n",
        "        try:\n",
        "            value_update_dict.update({name:list(values[values['name'] == name]['id'])[0]})\n",
        "        except:\n",
        "            print('value name '+name+' name not in db')\n",
        "            value_update_dict.update({name:0})\n",
        "    #updating the data with values\n",
        "    df['Value_ids'] = df[search_product_type_column].map(value_update_dict)\n",
        "    return df"
      ],
      "execution_count": 0,
      "outputs": []
    },
    {
      "metadata": {
        "id": "ZJEMyD0rlmPI",
        "colab_type": "code",
        "colab": {}
      },
      "cell_type": "code",
      "source": [
        "def get_attribute_ids(df,search_product_type_column):\n",
        "    \"\"\"\n",
        "    Description: Input the dataframe an the column name to get a dictionary of the value and the value_ids \n",
        "    ###########\n",
        "    \n",
        "    Parameters:\n",
        "    ------------\n",
        "    df: dataframe \n",
        "    \n",
        "    column_name: str of the column name that contains the value names too look for\n",
        "    \n",
        "    \"\"\"\n",
        "    #Connect to SQL database\n",
        "    conn = psycopg2.connect(**postgres)\n",
        "\n",
        "    query = (\"\"\"\n",
        "    SELECT\n",
        "      id  \n",
        "      ,name  \n",
        "    FROM attributes\n",
        "    \"\"\")\n",
        "\n",
        "    attri = pd.read_sql(query,conn)\n",
        "    attri_names = list(df[search_product_type_column].values)\n",
        "    attri_update_dict = {}\n",
        "    #creating the dictionary from the google sheets workbook. \n",
        "    for name in attri_names:\n",
        "        try:\n",
        "            attri_update_dict.update({name:list(attri[attri['name'] == name]['id'])[0]})\n",
        "        except:\n",
        "            print('attribute_name '+name+' name not in db')\n",
        "            attri_update_dict.update({name:0})\n",
        "    #updating the data with values\n",
        "    df['attribute_id'] = df[search_product_type_column].map(attri_update_dict)\n",
        "    return df"
      ],
      "execution_count": 0,
      "outputs": []
    },
    {
      "metadata": {
        "id": "zkbz1qhR6KlU",
        "colab_type": "text"
      },
      "cell_type": "markdown",
      "source": [
        "## Generating the JSON file to load to the API\n",
        "This runs for each row of data for the google sheets"
      ]
    },
    {
      "metadata": {
        "id": "hqpfy7cEyLFk",
        "colab_type": "code",
        "colab": {}
      },
      "cell_type": "code",
      "source": [
        "def curation_rules(df,row,from_col,to_col):\n",
        "    \"\"\"\n",
        "    Description: constructs the rules POST in JSON format\n",
        "    ###########\n",
        "    \n",
        "    Parameters:\n",
        "    -----------\n",
        "    json_string: This is the POST body String to update\n",
        "    \n",
        "    value_to_update: This is a dictionary of {'value_name':'valud_id'}\n",
        "    \n",
        "    ------------\n",
        "    \n",
        "    \n",
        "    \"\"\"\n",
        "    \n",
        "    POST_body = \"\"\"{\n",
        "    \"name\": \"Sandpaper\",\n",
        "    \"conditions\": [\n",
        "        {\n",
        "            \"type\": \"FIELD_VALUE\",\n",
        "            \"category_id\": null,\n",
        "            \"field_name\": \"Q:product_type\",\n",
        "            \"field_value\": \"Sandpaper\",\n",
        "            \"value_comparison\": \"MATCHES\"\n",
        "        }\n",
        "    ],\n",
        "    \"conditionsExpression\": \"A\",\n",
        "    \"taxonomyVersionId\": 1,\n",
        "    \"saveAsGlobal\": false,\n",
        "    \"bucketId\": null,\n",
        "    \"valueId\": 27383,\n",
        "    \"type\": \"attribution\",\n",
        "    \"curationRuleAttributes\": [\n",
        "        {\n",
        "            \"enabled\": true,\n",
        "            \"customer_id\": 55,\n",
        "            \"attribute_id\": 4086\n",
        "        }\n",
        "    ]\n",
        "        }\"\"\"\n",
        "    body = json.loads(POST_body)\n",
        "    #replace name with value nam \n",
        "    body.update({\"name\": \"Bulk Rule Upload - {0} - {1}\".format(df.iloc[row][to_col],today)})\n",
        "    conditions = body[\"conditions\"][0]\n",
        "    conditions.update({\"field_value\":df.iloc[row][from_col]})\n",
        "    body.update({\"valueId\":int(df.iloc[row]['Value_ids'])})\n",
        "    body[\"curationRuleAttributes\"][0].update({'customer_id':int(df.iloc[row]['Client_ID'])})\n",
        "    body[\"curationRuleAttributes\"][0].update({'attribute_id':int(df.iloc[row]['attribute_id'])})\n",
        "    return body"
      ],
      "execution_count": 0,
      "outputs": []
    },
    {
      "metadata": {
        "id": "DqYRSKyA6TSX",
        "colab_type": "text"
      },
      "cell_type": "markdown",
      "source": [
        "## Generate the API to POST\n",
        "This is setup to be generate by each row item but  can choose to send it to Staging or Production"
      ]
    },
    {
      "metadata": {
        "id": "Lex_0raSyLFs",
        "colab_type": "code",
        "colab": {}
      },
      "cell_type": "code",
      "source": [
        "def edgecase_api(customer_id,staging=True,JWT=JWT):\n",
        "    \"\"\"\n",
        "    Parameters:\n",
        "    -----------\n",
        "    customer_id: should be in the 'Client ID' column. \n",
        "     \n",
        "    staging: default == True\n",
        "      chooses whether to post data to prod or stagin API\n",
        "    \n",
        "    JWT: this is your JWT you get come the console. \n",
        "    \n",
        "    \n",
        "    \"\"\"\n",
        "    customer_id = str(customer_id)\n",
        "    #setting the params for posting to the site\n",
        "    if staging:\n",
        "        url = \"https://console.edgecasestaging.com/api/customers/{}/curation_rules/\".format(customer_id)\n",
        "    else:\n",
        "        url = \"https://console.edgecaseprod.com/api/customers/{}/curation_rules/\".format(customer_id)\n",
        "    querystring = {\"\":\"\"}\n",
        "    headers = {\n",
        "        'authorization': \"Bearer \"+JWT,\n",
        "        'content-type': \"application/json\"\n",
        "        }\n",
        "    return url,querystring,headers"
      ],
      "execution_count": 0,
      "outputs": []
    },
    {
      "metadata": {
        "id": "qMLmggQV6pXU",
        "colab_type": "text"
      },
      "cell_type": "markdown",
      "source": [
        "## POST data Via the API"
      ]
    },
    {
      "metadata": {
        "id": "YA38zBs1yLF1",
        "colab_type": "code",
        "colab": {}
      },
      "cell_type": "code",
      "source": [
        "def post_data(from_col='Curated Value',to_col='Curate As',staging=True,JWT=JWT):\n",
        "  \n",
        "    \"\"\"\n",
        "    Parameters:\n",
        "    ------------\n",
        "    from_col: This is the previously curated value\n",
        "    \n",
        "    to_col: This is the column witt the values to curate as. \n",
        "    \n",
        "    staging: Which environment should this exist in? Default is True.\n",
        "      Only switch to False if you are sure that it will be ready for production.\n",
        "    \n",
        "    JWT: This is your JWT as a string\n",
        "    ------------------\n",
        "    \n",
        "    \"\"\"\n",
        "    \n",
        "  \n",
        "    \n",
        "    df = get_worksheet_from_gsheets(gsheets_url,sheet_name)\n",
        "    df = get_value_ids(df,to_col)\n",
        "    df = get_attribute_ids(df,'To Be Curated Attribute')\n",
        "    \n",
        "    data_log= []\n",
        "    for row in tqdm(range(df.shape[0])):\n",
        "        body = curation_rules(df,row,from_col=from_col,to_col=to_col)\n",
        "        customer_id= df.iloc[row]['Client_ID']\n",
        "        \n",
        "        edgecase_api_url, edgecase_api_querystring ,edgecase_api_headers = edgecase_api(customer_id,staging=staging,JWT=JWT)\n",
        "        \n",
        "        response = requests.request(\"POST\", \n",
        "                                        edgecase_api_url, \n",
        "                                        data=json.dumps(body), \n",
        "                                        headers=edgecase_api_headers, \n",
        "                                        params=edgecase_api_querystring)\n",
        "        data_log.append(response.text)\n",
        "    post_data.data_log = data_log"
      ],
      "execution_count": 0,
      "outputs": []
    },
    {
      "metadata": {
        "id": "ClTWQJmm55QN",
        "colab_type": "text"
      },
      "cell_type": "markdown",
      "source": [
        "# Setting up the data execution"
      ]
    },
    {
      "metadata": {
        "id": "fTODod5ummwp",
        "colab_type": "code",
        "colab": {}
      },
      "cell_type": "code",
      "source": [
        "#getting the Value IDs from the sandbox data\n",
        "df = get_value_ids(df,'Curate As')\n",
        "#getting the Attribute IDS from the sandbox data.\n",
        "df = get_attribute_ids(df,'To Be Curated Attribute')"
      ],
      "execution_count": 0,
      "outputs": []
    },
    {
      "metadata": {
        "id": "wdFxlLSO_DjS",
        "colab_type": "code",
        "outputId": "fadba284-1afe-4fb8-e1a8-2add9a15e751",
        "colab": {
          "base_uri": "https://localhost:8080/",
          "height": 142
        }
      },
      "cell_type": "code",
      "source": [
        "df"
      ],
      "execution_count": 0,
      "outputs": [
        {
          "output_type": "execute_result",
          "data": {
            "text/html": [
              "<div>\n",
              "<style scoped>\n",
              "    .dataframe tbody tr th:only-of-type {\n",
              "        vertical-align: middle;\n",
              "    }\n",
              "\n",
              "    .dataframe tbody tr th {\n",
              "        vertical-align: top;\n",
              "    }\n",
              "\n",
              "    .dataframe thead th {\n",
              "        text-align: right;\n",
              "    }\n",
              "</style>\n",
              "<table border=\"1\" class=\"dataframe\">\n",
              "  <thead>\n",
              "    <tr style=\"text-align: right;\">\n",
              "      <th></th>\n",
              "      <th>Client_ID</th>\n",
              "      <th>Curate As</th>\n",
              "      <th>Curated Attribute</th>\n",
              "      <th>Curated Value</th>\n",
              "      <th>To Be Curated Attribute</th>\n",
              "      <th>Value_ids</th>\n",
              "      <th>attribute_id</th>\n",
              "    </tr>\n",
              "  </thead>\n",
              "  <tbody>\n",
              "    <tr>\n",
              "      <th>0</th>\n",
              "      <td>21</td>\n",
              "      <td>Concrete</td>\n",
              "      <td>Product Type</td>\n",
              "      <td>Ascots</td>\n",
              "      <td>Search Product Type</td>\n",
              "      <td>6820</td>\n",
              "      <td>4086</td>\n",
              "    </tr>\n",
              "    <tr>\n",
              "      <th>1</th>\n",
              "      <td>21</td>\n",
              "      <td>Alabaster Glass</td>\n",
              "      <td>Product Type</td>\n",
              "      <td>Bow Ties</td>\n",
              "      <td>Search Product Type</td>\n",
              "      <td>21133</td>\n",
              "      <td>4086</td>\n",
              "    </tr>\n",
              "    <tr>\n",
              "      <th>2</th>\n",
              "      <td>21</td>\n",
              "      <td>Concrete</td>\n",
              "      <td>Product Type</td>\n",
              "      <td>Neck Ties</td>\n",
              "      <td>Search Product Type</td>\n",
              "      <td>6820</td>\n",
              "      <td>4086</td>\n",
              "    </tr>\n",
              "  </tbody>\n",
              "</table>\n",
              "</div>"
            ],
            "text/plain": [
              "   Client_ID        Curate As Curated Attribute Curated Value  \\\n",
              "0         21         Concrete      Product Type        Ascots   \n",
              "1         21  Alabaster Glass      Product Type      Bow Ties   \n",
              "2         21         Concrete      Product Type     Neck Ties   \n",
              "\n",
              "  To Be Curated Attribute  Value_ids  attribute_id  \n",
              "0     Search Product Type       6820          4086  \n",
              "1     Search Product Type      21133          4086  \n",
              "2     Search Product Type       6820          4086  "
            ]
          },
          "metadata": {
            "tags": []
          },
          "execution_count": 57
        }
      ]
    },
    {
      "metadata": {
        "id": "yEUUzo7iyLGC",
        "colab_type": "code",
        "outputId": "bd076059-388d-416c-b5e8-3724c74edefd",
        "colab": {
          "base_uri": "https://localhost:8080/",
          "height": 34
        }
      },
      "cell_type": "code",
      "source": [
        "#Post data to either the stating or products. \n",
        "post_data(staging=True,JWT=JWT)"
      ],
      "execution_count": 0,
      "outputs": [
        {
          "output_type": "stream",
          "text": [
            "100%|██████████| 3/3 [00:00<00:00,  9.96it/s]\n"
          ],
          "name": "stderr"
        }
      ]
    },
    {
      "metadata": {
        "id": "oqhMb9XEra4o",
        "colab_type": "code",
        "outputId": "f273c9ea-161f-4f04-e905-aa6116b32e75",
        "colab": {
          "base_uri": "https://localhost:8080/",
          "height": 34
        }
      },
      "cell_type": "code",
      "source": [
        "#checking for invalid tokens\n",
        "[data for data in post_data.data_log if data.find('invaild') > -1]"
      ],
      "execution_count": 0,
      "outputs": [
        {
          "output_type": "execute_result",
          "data": {
            "text/plain": [
              "[]"
            ]
          },
          "metadata": {
            "tags": []
          },
          "execution_count": 59
        }
      ]
    },
    {
      "metadata": {
        "id": "qmkAcKS09c5D",
        "colab_type": "code",
        "colab": {}
      },
      "cell_type": "code",
      "source": [
        ""
      ],
      "execution_count": 0,
      "outputs": []
    }
  ]
}